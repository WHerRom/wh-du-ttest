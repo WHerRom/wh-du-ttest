{
 "cells": [
  {
   "cell_type": "markdown",
   "metadata": {},
   "source": [
    "# 3. Linear Model"
   ]
  },
  {
   "cell_type": "markdown",
   "metadata": {},
   "source": [
    "In this notebook, I start the inferential analysis by performing a Logistic Regression as a base model."
   ]
  },
  {
   "cell_type": "code",
   "execution_count": 1,
   "metadata": {},
   "outputs": [],
   "source": [
    "import pandas as pd\n",
    "import numpy as np\n",
    "\n",
    "from sklearn.pipeline import Pipeline\n",
    "from sklearn.preprocessing import StandardScaler\n",
    "from sklearn.compose import ColumnTransformer\n",
    "\n",
    "from sklearn.model_selection import train_test_split, StratifiedKFold\n",
    "\n",
    "from sklearn.linear_model import LogisticRegression\n",
    "from sklearn.model_selection import GridSearchCV\n",
    "\n",
    "from sklearn.metrics import roc_auc_score"
   ]
  },
  {
   "cell_type": "code",
   "execution_count": 2,
   "metadata": {},
   "outputs": [
    {
     "data": {
      "text/html": [
       "<div>\n",
       "<style scoped>\n",
       "    .dataframe tbody tr th:only-of-type {\n",
       "        vertical-align: middle;\n",
       "    }\n",
       "\n",
       "    .dataframe tbody tr th {\n",
       "        vertical-align: top;\n",
       "    }\n",
       "\n",
       "    .dataframe thead th {\n",
       "        text-align: right;\n",
       "    }\n",
       "</style>\n",
       "<table border=\"1\" class=\"dataframe\">\n",
       "  <thead>\n",
       "    <tr style=\"text-align: right;\">\n",
       "      <th></th>\n",
       "      <th>TARGET_FLAG</th>\n",
       "      <th>AGE</th>\n",
       "      <th>HOME_VAL</th>\n",
       "      <th>OLDCLAIM</th>\n",
       "      <th>CAR_AGE</th>\n",
       "      <th>Doctor</th>\n",
       "      <th>Home Maker</th>\n",
       "      <th>Lawyer</th>\n",
       "      <th>Manager</th>\n",
       "      <th>Professional</th>\n",
       "      <th>Student</th>\n",
       "      <th>Panel Truck</th>\n",
       "      <th>Sports Car</th>\n",
       "      <th>Van</th>\n",
       "      <th>PCA_FACTOR</th>\n",
       "    </tr>\n",
       "  </thead>\n",
       "  <tbody>\n",
       "    <tr>\n",
       "      <th>0</th>\n",
       "      <td>0.0</td>\n",
       "      <td>60.0</td>\n",
       "      <td>1.000000</td>\n",
       "      <td>8.403128</td>\n",
       "      <td>18.0</td>\n",
       "      <td>0.0</td>\n",
       "      <td>0.0</td>\n",
       "      <td>0.0</td>\n",
       "      <td>0.0</td>\n",
       "      <td>1.0</td>\n",
       "      <td>0.0</td>\n",
       "      <td>0.0</td>\n",
       "      <td>0.0</td>\n",
       "      <td>0.0</td>\n",
       "      <td>-0.972189</td>\n",
       "    </tr>\n",
       "    <tr>\n",
       "      <th>1</th>\n",
       "      <td>0.0</td>\n",
       "      <td>43.0</td>\n",
       "      <td>12.457811</td>\n",
       "      <td>1.000000</td>\n",
       "      <td>1.0</td>\n",
       "      <td>0.0</td>\n",
       "      <td>0.0</td>\n",
       "      <td>0.0</td>\n",
       "      <td>0.0</td>\n",
       "      <td>0.0</td>\n",
       "      <td>0.0</td>\n",
       "      <td>0.0</td>\n",
       "      <td>0.0</td>\n",
       "      <td>0.0</td>\n",
       "      <td>-1.125707</td>\n",
       "    </tr>\n",
       "    <tr>\n",
       "      <th>2</th>\n",
       "      <td>0.0</td>\n",
       "      <td>35.0</td>\n",
       "      <td>11.729576</td>\n",
       "      <td>10.563336</td>\n",
       "      <td>10.0</td>\n",
       "      <td>0.0</td>\n",
       "      <td>0.0</td>\n",
       "      <td>0.0</td>\n",
       "      <td>0.0</td>\n",
       "      <td>0.0</td>\n",
       "      <td>0.0</td>\n",
       "      <td>0.0</td>\n",
       "      <td>0.0</td>\n",
       "      <td>0.0</td>\n",
       "      <td>0.612868</td>\n",
       "    </tr>\n",
       "    <tr>\n",
       "      <th>3</th>\n",
       "      <td>0.0</td>\n",
       "      <td>51.0</td>\n",
       "      <td>12.632160</td>\n",
       "      <td>1.000000</td>\n",
       "      <td>6.0</td>\n",
       "      <td>0.0</td>\n",
       "      <td>0.0</td>\n",
       "      <td>0.0</td>\n",
       "      <td>0.0</td>\n",
       "      <td>0.0</td>\n",
       "      <td>0.0</td>\n",
       "      <td>0.0</td>\n",
       "      <td>0.0</td>\n",
       "      <td>0.0</td>\n",
       "      <td>-3.027922</td>\n",
       "    </tr>\n",
       "    <tr>\n",
       "      <th>4</th>\n",
       "      <td>0.0</td>\n",
       "      <td>50.0</td>\n",
       "      <td>12.404616</td>\n",
       "      <td>9.863551</td>\n",
       "      <td>17.0</td>\n",
       "      <td>1.0</td>\n",
       "      <td>0.0</td>\n",
       "      <td>0.0</td>\n",
       "      <td>0.0</td>\n",
       "      <td>0.0</td>\n",
       "      <td>0.0</td>\n",
       "      <td>0.0</td>\n",
       "      <td>0.0</td>\n",
       "      <td>0.0</td>\n",
       "      <td>-0.807560</td>\n",
       "    </tr>\n",
       "  </tbody>\n",
       "</table>\n",
       "</div>"
      ],
      "text/plain": [
       "   TARGET_FLAG   AGE   HOME_VAL   OLDCLAIM  CAR_AGE  Doctor  Home Maker  \\\n",
       "0          0.0  60.0   1.000000   8.403128     18.0     0.0         0.0   \n",
       "1          0.0  43.0  12.457811   1.000000      1.0     0.0         0.0   \n",
       "2          0.0  35.0  11.729576  10.563336     10.0     0.0         0.0   \n",
       "3          0.0  51.0  12.632160   1.000000      6.0     0.0         0.0   \n",
       "4          0.0  50.0  12.404616   9.863551     17.0     1.0         0.0   \n",
       "\n",
       "   Lawyer  Manager  Professional  Student  Panel Truck  Sports Car  Van  \\\n",
       "0     0.0      0.0           1.0      0.0          0.0         0.0  0.0   \n",
       "1     0.0      0.0           0.0      0.0          0.0         0.0  0.0   \n",
       "2     0.0      0.0           0.0      0.0          0.0         0.0  0.0   \n",
       "3     0.0      0.0           0.0      0.0          0.0         0.0  0.0   \n",
       "4     0.0      0.0           0.0      0.0          0.0         0.0  0.0   \n",
       "\n",
       "   PCA_FACTOR  \n",
       "0   -0.972189  \n",
       "1   -1.125707  \n",
       "2    0.612868  \n",
       "3   -3.027922  \n",
       "4   -0.807560  "
      ]
     },
     "execution_count": 2,
     "metadata": {},
     "output_type": "execute_result"
    }
   ],
   "source": [
    "df_train = pd.read_csv(\"Working_datasets/processed_train.csv\")\n",
    "df_train.head()"
   ]
  },
  {
   "cell_type": "markdown",
   "metadata": {},
   "source": [
    "## Premodelling process\n",
    "\n",
    "At this stage, it is performed standardization which is required for many machine learning estimators. In this case in particular, it helps to reach the optimal point quickier for the Logistic Regression."
   ]
  },
  {
   "cell_type": "code",
   "execution_count": 3,
   "metadata": {},
   "outputs": [],
   "source": [
    "y_variable = 'TARGET_FLAG'\n",
    "\n",
    "y = df_train[y_variable].values\n",
    "X = df_train.drop(columns=y_variable)"
   ]
  },
  {
   "cell_type": "code",
   "execution_count": 4,
   "metadata": {},
   "outputs": [],
   "source": [
    "numeric_features = ['AGE',\n",
    "                    'HOME_VAL',\n",
    "                    'OLDCLAIM',\n",
    "                    'CAR_AGE',\n",
    "                    'PCA_FACTOR']\n",
    "\n",
    "numeric_transformer = Pipeline(steps=[\n",
    "    ('scaler', StandardScaler())])\n",
    "\n",
    "preprocessor = ColumnTransformer(\n",
    "    transformers=[\n",
    "        ('num', numeric_transformer, numeric_features),],\n",
    "    remainder='passthrough')"
   ]
  },
  {
   "cell_type": "markdown",
   "metadata": {},
   "source": [
    "I divide the data set into training and testing. I also use k-fold to search over hyper-parameters"
   ]
  },
  {
   "cell_type": "code",
   "execution_count": 5,
   "metadata": {},
   "outputs": [],
   "source": [
    "random_state = 123\n",
    "n_splits = 4\n",
    "\n",
    "X_training, X_testing, y_training, y_testing \\\n",
    "= train_test_split(X, y, test_size=0.1, random_state=random_state, stratify=y)\n",
    "\n",
    "kf = StratifiedKFold(n_splits=n_splits, shuffle=True, random_state=random_state)"
   ]
  },
  {
   "cell_type": "markdown",
   "metadata": {},
   "source": [
    "## Model definition\n",
    "I use Logistic Regression as the baseline model as it is the most basic model to perform binary classification."
   ]
  },
  {
   "cell_type": "code",
   "execution_count": 6,
   "metadata": {},
   "outputs": [],
   "source": [
    "pipe = Pipeline(steps=[('preprocessor', preprocessor),                # In order to perform preprocessing\n",
    "                      ('clf', LogisticRegression(random_state=1,      # In order to instanciate a model\n",
    "                                                solver='liblinear',\n",
    "                                                max_iter=300))])"
   ]
  },
  {
   "cell_type": "markdown",
   "metadata": {},
   "source": [
    "## Model Training\n",
    "I use GridSearchCV to find the best hyperparameters and I define AUC as performing metric. "
   ]
  },
  {
   "cell_type": "code",
   "execution_count": 7,
   "metadata": {},
   "outputs": [
    {
     "name": "stdout",
     "output_type": "stream",
     "text": [
      "Fitting 4 folds for each of 200 candidates, totalling 800 fits\n",
      "0.711842245357979\n"
     ]
    }
   ],
   "source": [
    "param_grid = dict(clf__penalty = ['l1', 'l2'],\n",
    "                  clf__C       = np.logspace(-2, 3, 100))\n",
    "\n",
    "grid = GridSearchCV(pipe, \n",
    "                    param_grid=param_grid,\n",
    "                    cv=kf, \n",
    "                    n_jobs=1, \n",
    "                    verbose=1,\n",
    "                    scoring='roc_auc',\n",
    "                    return_train_score=True)\n",
    "grid.fit(X_training, y_training)\n",
    "print(grid.best_score_)"
   ]
  },
  {
   "cell_type": "markdown",
   "metadata": {},
   "source": [
    "## Model evaluation\n",
    "\n",
    "I evaluate the model on the test set. The baseline model is not really accurate. It is required a better model or more feature engineering or optimization of paramaters."
   ]
  },
  {
   "cell_type": "code",
   "execution_count": 8,
   "metadata": {},
   "outputs": [
    {
     "data": {
      "text/plain": [
       "0.558663801072287"
      ]
     },
     "execution_count": 8,
     "metadata": {},
     "output_type": "execute_result"
    }
   ],
   "source": [
    "y_pred = grid.predict(X_testing)\n",
    "roc_auc_score(y_testing, y_pred)"
   ]
  },
  {
   "cell_type": "markdown",
   "metadata": {},
   "source": [
    "## Summary\n",
    "I use Logistic Regression as the baseline model and I use gridsearch to find the best hyperparameters. It is noted the following:\n",
    "* It is performed standarization in numerical covariables to avoid problems in the optimization algorithm\n",
    "* It is used K-fold to find the best hyperparameters. \n",
    "* AUC is 71% in the training set and 55% in the testing set. It is required stronger regularization."
   ]
  }
 ],
 "metadata": {
  "kernelspec": {
   "display_name": "Python 3",
   "language": "python",
   "name": "python3"
  },
  "language_info": {
   "codemirror_mode": {
    "name": "ipython",
    "version": 3
   },
   "file_extension": ".py",
   "mimetype": "text/x-python",
   "name": "python",
   "nbconvert_exporter": "python",
   "pygments_lexer": "ipython3",
   "version": "3.8.5"
  }
 },
 "nbformat": 4,
 "nbformat_minor": 4
}
