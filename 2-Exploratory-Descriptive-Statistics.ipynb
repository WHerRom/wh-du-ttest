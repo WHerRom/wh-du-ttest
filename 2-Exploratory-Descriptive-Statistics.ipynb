{
 "cells": [
  {
   "cell_type": "markdown",
   "metadata": {},
   "source": [
    "# 2. Exploratory and Descriptive Statistics"
   ]
  },
  {
   "cell_type": "markdown",
   "metadata": {},
   "source": [
    "In this notebook, the idea is to use descriptive and exploratory statistics to understand the relationship between the covariables and the target variable. In addition, I will use data visualization to show this relationship."
   ]
  },
  {
   "cell_type": "code",
   "execution_count": 19,
   "metadata": {},
   "outputs": [],
   "source": [
    "import os\n",
    "\n",
    "import pandas as pd\n",
    "import numpy as np\n",
    "\n",
    "from scipy.stats import ks_2samp\n",
    "from scipy.stats import chi2_contingency\n",
    "\n",
    "import matplotlib.pyplot as plt\n",
    "import seaborn as sns\n",
    "\n",
    "from sklearn.decomposition import PCA"
   ]
  },
  {
   "cell_type": "code",
   "execution_count": 21,
   "metadata": {},
   "outputs": [
    {
     "data": {
      "text/html": [
       "<div>\n",
       "<style scoped>\n",
       "    .dataframe tbody tr th:only-of-type {\n",
       "        vertical-align: middle;\n",
       "    }\n",
       "\n",
       "    .dataframe tbody tr th {\n",
       "        vertical-align: top;\n",
       "    }\n",
       "\n",
       "    .dataframe thead th {\n",
       "        text-align: right;\n",
       "    }\n",
       "</style>\n",
       "<table border=\"1\" class=\"dataframe\">\n",
       "  <thead>\n",
       "    <tr style=\"text-align: right;\">\n",
       "      <th></th>\n",
       "      <th>TARGET_FLAG</th>\n",
       "      <th>KIDSDRIV</th>\n",
       "      <th>AGE</th>\n",
       "      <th>HOMEKIDS</th>\n",
       "      <th>YOJ</th>\n",
       "      <th>INCOME</th>\n",
       "      <th>PARENT1</th>\n",
       "      <th>HOME_VAL</th>\n",
       "      <th>MSTATUS</th>\n",
       "      <th>EDUCATION</th>\n",
       "      <th>...</th>\n",
       "      <th>Manager</th>\n",
       "      <th>Professional</th>\n",
       "      <th>Student</th>\n",
       "      <th>Commercial</th>\n",
       "      <th>Minivan</th>\n",
       "      <th>Panel Truck</th>\n",
       "      <th>Pickup</th>\n",
       "      <th>Sports Car</th>\n",
       "      <th>Van</th>\n",
       "      <th>Highly Urban/ Urban</th>\n",
       "    </tr>\n",
       "  </thead>\n",
       "  <tbody>\n",
       "    <tr>\n",
       "      <th>0</th>\n",
       "      <td>0.0</td>\n",
       "      <td>0</td>\n",
       "      <td>60.0</td>\n",
       "      <td>0</td>\n",
       "      <td>11.000000</td>\n",
       "      <td>11.117643</td>\n",
       "      <td>0</td>\n",
       "      <td>1.000000</td>\n",
       "      <td>0</td>\n",
       "      <td>4</td>\n",
       "      <td>...</td>\n",
       "      <td>0.0</td>\n",
       "      <td>1.0</td>\n",
       "      <td>0.0</td>\n",
       "      <td>0.0</td>\n",
       "      <td>1.0</td>\n",
       "      <td>0.0</td>\n",
       "      <td>0.0</td>\n",
       "      <td>0.0</td>\n",
       "      <td>0.0</td>\n",
       "      <td>1.0</td>\n",
       "    </tr>\n",
       "    <tr>\n",
       "      <th>1</th>\n",
       "      <td>0.0</td>\n",
       "      <td>0</td>\n",
       "      <td>43.0</td>\n",
       "      <td>0</td>\n",
       "      <td>11.000000</td>\n",
       "      <td>11.423537</td>\n",
       "      <td>0</td>\n",
       "      <td>12.457811</td>\n",
       "      <td>0</td>\n",
       "      <td>1</td>\n",
       "      <td>...</td>\n",
       "      <td>0.0</td>\n",
       "      <td>0.0</td>\n",
       "      <td>0.0</td>\n",
       "      <td>1.0</td>\n",
       "      <td>1.0</td>\n",
       "      <td>0.0</td>\n",
       "      <td>0.0</td>\n",
       "      <td>0.0</td>\n",
       "      <td>0.0</td>\n",
       "      <td>1.0</td>\n",
       "    </tr>\n",
       "    <tr>\n",
       "      <th>2</th>\n",
       "      <td>0.0</td>\n",
       "      <td>0</td>\n",
       "      <td>35.0</td>\n",
       "      <td>1</td>\n",
       "      <td>10.000000</td>\n",
       "      <td>9.682779</td>\n",
       "      <td>0</td>\n",
       "      <td>11.729576</td>\n",
       "      <td>1</td>\n",
       "      <td>1</td>\n",
       "      <td>...</td>\n",
       "      <td>0.0</td>\n",
       "      <td>0.0</td>\n",
       "      <td>0.0</td>\n",
       "      <td>0.0</td>\n",
       "      <td>0.0</td>\n",
       "      <td>0.0</td>\n",
       "      <td>0.0</td>\n",
       "      <td>0.0</td>\n",
       "      <td>0.0</td>\n",
       "      <td>1.0</td>\n",
       "    </tr>\n",
       "    <tr>\n",
       "      <th>3</th>\n",
       "      <td>0.0</td>\n",
       "      <td>0</td>\n",
       "      <td>51.0</td>\n",
       "      <td>0</td>\n",
       "      <td>14.000000</td>\n",
       "      <td>10.043458</td>\n",
       "      <td>0</td>\n",
       "      <td>12.632160</td>\n",
       "      <td>1</td>\n",
       "      <td>0</td>\n",
       "      <td>...</td>\n",
       "      <td>0.0</td>\n",
       "      <td>0.0</td>\n",
       "      <td>0.0</td>\n",
       "      <td>0.0</td>\n",
       "      <td>1.0</td>\n",
       "      <td>0.0</td>\n",
       "      <td>0.0</td>\n",
       "      <td>0.0</td>\n",
       "      <td>0.0</td>\n",
       "      <td>1.0</td>\n",
       "    </tr>\n",
       "    <tr>\n",
       "      <th>4</th>\n",
       "      <td>0.0</td>\n",
       "      <td>0</td>\n",
       "      <td>50.0</td>\n",
       "      <td>0</td>\n",
       "      <td>10.499286</td>\n",
       "      <td>11.652566</td>\n",
       "      <td>0</td>\n",
       "      <td>12.404616</td>\n",
       "      <td>1</td>\n",
       "      <td>4</td>\n",
       "      <td>...</td>\n",
       "      <td>0.0</td>\n",
       "      <td>0.0</td>\n",
       "      <td>0.0</td>\n",
       "      <td>0.0</td>\n",
       "      <td>0.0</td>\n",
       "      <td>0.0</td>\n",
       "      <td>0.0</td>\n",
       "      <td>0.0</td>\n",
       "      <td>0.0</td>\n",
       "      <td>1.0</td>\n",
       "    </tr>\n",
       "  </tbody>\n",
       "</table>\n",
       "<p>5 rows × 34 columns</p>\n",
       "</div>"
      ],
      "text/plain": [
       "   TARGET_FLAG  KIDSDRIV   AGE  HOMEKIDS        YOJ     INCOME  PARENT1  \\\n",
       "0          0.0         0  60.0         0  11.000000  11.117643        0   \n",
       "1          0.0         0  43.0         0  11.000000  11.423537        0   \n",
       "2          0.0         0  35.0         1  10.000000   9.682779        0   \n",
       "3          0.0         0  51.0         0  14.000000  10.043458        0   \n",
       "4          0.0         0  50.0         0  10.499286  11.652566        0   \n",
       "\n",
       "    HOME_VAL  MSTATUS  EDUCATION  ...  Manager  Professional  Student  \\\n",
       "0   1.000000        0          4  ...      0.0           1.0      0.0   \n",
       "1  12.457811        0          1  ...      0.0           0.0      0.0   \n",
       "2  11.729576        1          1  ...      0.0           0.0      0.0   \n",
       "3  12.632160        1          0  ...      0.0           0.0      0.0   \n",
       "4  12.404616        1          4  ...      0.0           0.0      0.0   \n",
       "\n",
       "   Commercial  Minivan  Panel Truck  Pickup  Sports Car  Van  \\\n",
       "0         0.0      1.0          0.0     0.0         0.0  0.0   \n",
       "1         1.0      1.0          0.0     0.0         0.0  0.0   \n",
       "2         0.0      0.0          0.0     0.0         0.0  0.0   \n",
       "3         0.0      1.0          0.0     0.0         0.0  0.0   \n",
       "4         0.0      0.0          0.0     0.0         0.0  0.0   \n",
       "\n",
       "   Highly Urban/ Urban  \n",
       "0                  1.0  \n",
       "1                  1.0  \n",
       "2                  1.0  \n",
       "3                  1.0  \n",
       "4                  1.0  \n",
       "\n",
       "[5 rows x 34 columns]"
      ]
     },
     "execution_count": 21,
     "metadata": {},
     "output_type": "execute_result"
    }
   ],
   "source": [
    "df_train = pd.read_csv(\"Working_datasets/preprocessed_train.csv\")\n",
    "df_test = pd.read_csv(\"Working_datasets/preprocessed_test.csv\")\n",
    "y_variable = 'TARGET_FLAG'\n",
    "df_train.head()"
   ]
  },
  {
   "cell_type": "markdown",
   "metadata": {},
   "source": [
    "## Univariate Analysis\n",
    "\n",
    "I start by testing the power of prediction of the covariables with regards with the target variable"
   ]
  },
  {
   "cell_type": "code",
   "execution_count": 22,
   "metadata": {},
   "outputs": [],
   "source": [
    "Column_names = list(df_train.columns)\n",
    "Column_names.remove(y_variable)\n",
    "Numerical_Variables = ['AGE','YOJ','INCOME','HOME_VAL','BLUEBOOK','OLDCLAIM','CAR_AGE']\n",
    "Other_variables = [ i for i in Column_names if not i in Numerical_Variables]"
   ]
  },
  {
   "cell_type": "markdown",
   "metadata": {},
   "source": [
    "### Numerical Variables\n",
    "\n",
    "I use the test the kolmogorov-Smirnof to see if there is a statistical relationship between the variable and the target variable. Null hypothesis is that variables are independent."
   ]
  },
  {
   "cell_type": "code",
   "execution_count": 23,
   "metadata": {},
   "outputs": [
    {
     "data": {
      "text/plain": [
       "KstestResult(statistic=0.12670781735206132, pvalue=3.3306690738754696e-16)"
      ]
     },
     "execution_count": 23,
     "metadata": {},
     "output_type": "execute_result"
    }
   ],
   "source": [
    "# AGE variable\n",
    "AGE_pos = np.array(df_train[df_train.TARGET_FLAG == 1]['AGE'])\n",
    "AGE_neg = np.array(df_train[df_train.TARGET_FLAG == 0]['AGE'])\n",
    "ks_2samp(AGE_pos, AGE_neg)"
   ]
  },
  {
   "cell_type": "markdown",
   "metadata": {},
   "source": [
    "Null hypothesis is rejected and there is statistical relation between this covariable and the target variable"
   ]
  },
  {
   "cell_type": "code",
   "execution_count": 24,
   "metadata": {},
   "outputs": [
    {
     "data": {
      "text/plain": [
       "KstestResult(statistic=0.06507053917272712, pvalue=2.787685991156863e-06)"
      ]
     },
     "execution_count": 24,
     "metadata": {},
     "output_type": "execute_result"
    }
   ],
   "source": [
    "# YOJ variable\n",
    "YOJ_pos = np.array(df_train[df_train.TARGET_FLAG == 1]['YOJ'])\n",
    "YOJ_neg = np.array(df_train[df_train.TARGET_FLAG == 0]['YOJ'])\n",
    "ks_2samp(YOJ_pos, YOJ_neg)"
   ]
  },
  {
   "cell_type": "markdown",
   "metadata": {},
   "source": [
    "Null hypothesis is rejected and there is statistical relation between this covariable and the target variable"
   ]
  },
  {
   "cell_type": "code",
   "execution_count": 25,
   "metadata": {},
   "outputs": [
    {
     "data": {
      "text/plain": [
       "KstestResult(statistic=0.14915721598636406, pvalue=3.3306690738754696e-16)"
      ]
     },
     "execution_count": 25,
     "metadata": {},
     "output_type": "execute_result"
    }
   ],
   "source": [
    "# INCOME variable\n",
    "INCOME_pos = np.array(df_train[df_train.TARGET_FLAG == 1]['INCOME'])\n",
    "INCOME_neg = np.array(df_train[df_train.TARGET_FLAG == 0]['INCOME'])\n",
    "ks_2samp(INCOME_pos, INCOME_neg)"
   ]
  },
  {
   "cell_type": "markdown",
   "metadata": {},
   "source": [
    "Null hypothesis is rejected and there is statistical relation between this covariable and the target variable"
   ]
  },
  {
   "cell_type": "code",
   "execution_count": 26,
   "metadata": {},
   "outputs": [
    {
     "data": {
      "text/plain": [
       "KstestResult(statistic=0.1668040692608029, pvalue=3.3306690738754696e-16)"
      ]
     },
     "execution_count": 26,
     "metadata": {},
     "output_type": "execute_result"
    }
   ],
   "source": [
    "# HOME_VAL variable\n",
    "HOME_VAL_pos = np.array(df_train[df_train.TARGET_FLAG == 1]['HOME_VAL'])\n",
    "HOME_VAL_neg = np.array(df_train[df_train.TARGET_FLAG == 0]['HOME_VAL'])\n",
    "ks_2samp(HOME_VAL_pos, HOME_VAL_neg)"
   ]
  },
  {
   "cell_type": "markdown",
   "metadata": {},
   "source": [
    "Null hypothesis is rejected and there is statistical relation between this covariable and the target variable"
   ]
  },
  {
   "cell_type": "code",
   "execution_count": 27,
   "metadata": {},
   "outputs": [
    {
     "data": {
      "text/plain": [
       "KstestResult(statistic=0.7008020889317418, pvalue=0.7073646060598775)"
      ]
     },
     "execution_count": 27,
     "metadata": {},
     "output_type": "execute_result"
    }
   ],
   "source": [
    "# BLUEBOOK variable\n",
    "BLUEBOOK_pos = np.array(df_train[df_train.TARGET_FLAG == 1]['BLUEBOOK'])\n",
    "BLUEBOOK_neg = np.array(df_train[df_train.TARGET_FLAG == 0]['BLUEBOOK'])\n",
    "ks_2samp(BLUEBOOK_pos, HOME_VAL_neg)"
   ]
  },
  {
   "cell_type": "markdown",
   "metadata": {},
   "source": [
    "There is no enough evidence to reject the null hypothesis, this variable will be removed of our analysis to start reducing overfitting and augment parsimony."
   ]
  },
  {
   "cell_type": "code",
   "execution_count": 28,
   "metadata": {},
   "outputs": [
    {
     "data": {
      "text/plain": [
       "KstestResult(statistic=0.2679941220963781, pvalue=3.3306690738754696e-16)"
      ]
     },
     "execution_count": 28,
     "metadata": {},
     "output_type": "execute_result"
    }
   ],
   "source": [
    "# OLDCLAIM variable\n",
    "OLDCLAIM_pos = np.array(df_train[df_train.TARGET_FLAG == 1]['OLDCLAIM'])\n",
    "OLDCLAIM_neg = np.array(df_train[df_train.TARGET_FLAG == 0]['OLDCLAIM'])\n",
    "ks_2samp(OLDCLAIM_pos, OLDCLAIM_neg)"
   ]
  },
  {
   "cell_type": "markdown",
   "metadata": {},
   "source": [
    "Null hypothesis is rejected and there is statistical relation between this covariable and the target variable"
   ]
  },
  {
   "cell_type": "code",
   "execution_count": 29,
   "metadata": {},
   "outputs": [
    {
     "data": {
      "text/plain": [
       "KstestResult(statistic=0.10033533242253864, pvalue=2.7422508708241367e-14)"
      ]
     },
     "execution_count": 29,
     "metadata": {},
     "output_type": "execute_result"
    }
   ],
   "source": [
    "# CAR_AGE variable\n",
    "CAR_AGE_pos = np.array(df_train[df_train.TARGET_FLAG == 1]['CAR_AGE'])\n",
    "CAR_AGE_neg = np.array(df_train[df_train.TARGET_FLAG == 0]['CAR_AGE'])\n",
    "ks_2samp(CAR_AGE_pos, CAR_AGE_neg)"
   ]
  },
  {
   "cell_type": "markdown",
   "metadata": {},
   "source": [
    "Null hypothesis is rejected and there is statistical relation between this covariable and the target variable"
   ]
  },
  {
   "cell_type": "markdown",
   "metadata": {},
   "source": [
    "### The rest of Variables \n",
    "\n",
    "I use chi-square test to test the relationship between every covariable and the target variable. Null hypothesis is that the variables are independent."
   ]
  },
  {
   "cell_type": "code",
   "execution_count": 30,
   "metadata": {},
   "outputs": [],
   "source": [
    "def perform_chi2(DF_pandas,y_variable,x_variable):\n",
    "    contigency = pd.crosstab(DF_pandas[y_variable],DF_pandas[x_variable], normalize='index')\n",
    "    c, p, dof, expected = chi2_contingency(contigency)\n",
    "    return(p)"
   ]
  },
  {
   "cell_type": "code",
   "execution_count": 31,
   "metadata": {},
   "outputs": [],
   "source": [
    "eliminate_variables = []\n",
    "for i in Other_variables:\n",
    "    p_value = perform_chi2(df_train,y_variable,i)\n",
    "    if p_value >0.05:\n",
    "        eliminate_variables.append(i)\n",
    "    "
   ]
  },
  {
   "cell_type": "markdown",
   "metadata": {},
   "source": [
    "### Summary\n",
    "\n",
    "I eliminate the variables that doesn't help the prediction of the target variable according to the non-parametric tests."
   ]
  },
  {
   "cell_type": "code",
   "execution_count": 32,
   "metadata": {},
   "outputs": [
    {
     "data": {
      "text/html": [
       "<div>\n",
       "<style scoped>\n",
       "    .dataframe tbody tr th:only-of-type {\n",
       "        vertical-align: middle;\n",
       "    }\n",
       "\n",
       "    .dataframe tbody tr th {\n",
       "        vertical-align: top;\n",
       "    }\n",
       "\n",
       "    .dataframe thead th {\n",
       "        text-align: right;\n",
       "    }\n",
       "</style>\n",
       "<table border=\"1\" class=\"dataframe\">\n",
       "  <thead>\n",
       "    <tr style=\"text-align: right;\">\n",
       "      <th></th>\n",
       "      <th>TARGET_FLAG</th>\n",
       "      <th>AGE</th>\n",
       "      <th>YOJ</th>\n",
       "      <th>INCOME</th>\n",
       "      <th>HOME_VAL</th>\n",
       "      <th>OLDCLAIM</th>\n",
       "      <th>CAR_AGE</th>\n",
       "      <th>Doctor</th>\n",
       "      <th>Home Maker</th>\n",
       "      <th>Lawyer</th>\n",
       "      <th>Manager</th>\n",
       "      <th>Professional</th>\n",
       "      <th>Student</th>\n",
       "      <th>Panel Truck</th>\n",
       "      <th>Sports Car</th>\n",
       "      <th>Van</th>\n",
       "    </tr>\n",
       "  </thead>\n",
       "  <tbody>\n",
       "    <tr>\n",
       "      <th>0</th>\n",
       "      <td>0.0</td>\n",
       "      <td>60.0</td>\n",
       "      <td>11.000000</td>\n",
       "      <td>11.117643</td>\n",
       "      <td>1.000000</td>\n",
       "      <td>8.403128</td>\n",
       "      <td>18.0</td>\n",
       "      <td>0.0</td>\n",
       "      <td>0.0</td>\n",
       "      <td>0.0</td>\n",
       "      <td>0.0</td>\n",
       "      <td>1.0</td>\n",
       "      <td>0.0</td>\n",
       "      <td>0.0</td>\n",
       "      <td>0.0</td>\n",
       "      <td>0.0</td>\n",
       "    </tr>\n",
       "    <tr>\n",
       "      <th>1</th>\n",
       "      <td>0.0</td>\n",
       "      <td>43.0</td>\n",
       "      <td>11.000000</td>\n",
       "      <td>11.423537</td>\n",
       "      <td>12.457811</td>\n",
       "      <td>1.000000</td>\n",
       "      <td>1.0</td>\n",
       "      <td>0.0</td>\n",
       "      <td>0.0</td>\n",
       "      <td>0.0</td>\n",
       "      <td>0.0</td>\n",
       "      <td>0.0</td>\n",
       "      <td>0.0</td>\n",
       "      <td>0.0</td>\n",
       "      <td>0.0</td>\n",
       "      <td>0.0</td>\n",
       "    </tr>\n",
       "    <tr>\n",
       "      <th>2</th>\n",
       "      <td>0.0</td>\n",
       "      <td>35.0</td>\n",
       "      <td>10.000000</td>\n",
       "      <td>9.682779</td>\n",
       "      <td>11.729576</td>\n",
       "      <td>10.563336</td>\n",
       "      <td>10.0</td>\n",
       "      <td>0.0</td>\n",
       "      <td>0.0</td>\n",
       "      <td>0.0</td>\n",
       "      <td>0.0</td>\n",
       "      <td>0.0</td>\n",
       "      <td>0.0</td>\n",
       "      <td>0.0</td>\n",
       "      <td>0.0</td>\n",
       "      <td>0.0</td>\n",
       "    </tr>\n",
       "    <tr>\n",
       "      <th>3</th>\n",
       "      <td>0.0</td>\n",
       "      <td>51.0</td>\n",
       "      <td>14.000000</td>\n",
       "      <td>10.043458</td>\n",
       "      <td>12.632160</td>\n",
       "      <td>1.000000</td>\n",
       "      <td>6.0</td>\n",
       "      <td>0.0</td>\n",
       "      <td>0.0</td>\n",
       "      <td>0.0</td>\n",
       "      <td>0.0</td>\n",
       "      <td>0.0</td>\n",
       "      <td>0.0</td>\n",
       "      <td>0.0</td>\n",
       "      <td>0.0</td>\n",
       "      <td>0.0</td>\n",
       "    </tr>\n",
       "    <tr>\n",
       "      <th>4</th>\n",
       "      <td>0.0</td>\n",
       "      <td>50.0</td>\n",
       "      <td>10.499286</td>\n",
       "      <td>11.652566</td>\n",
       "      <td>12.404616</td>\n",
       "      <td>9.863551</td>\n",
       "      <td>17.0</td>\n",
       "      <td>1.0</td>\n",
       "      <td>0.0</td>\n",
       "      <td>0.0</td>\n",
       "      <td>0.0</td>\n",
       "      <td>0.0</td>\n",
       "      <td>0.0</td>\n",
       "      <td>0.0</td>\n",
       "      <td>0.0</td>\n",
       "      <td>0.0</td>\n",
       "    </tr>\n",
       "  </tbody>\n",
       "</table>\n",
       "</div>"
      ],
      "text/plain": [
       "   TARGET_FLAG   AGE        YOJ     INCOME   HOME_VAL   OLDCLAIM  CAR_AGE  \\\n",
       "0          0.0  60.0  11.000000  11.117643   1.000000   8.403128     18.0   \n",
       "1          0.0  43.0  11.000000  11.423537  12.457811   1.000000      1.0   \n",
       "2          0.0  35.0  10.000000   9.682779  11.729576  10.563336     10.0   \n",
       "3          0.0  51.0  14.000000  10.043458  12.632160   1.000000      6.0   \n",
       "4          0.0  50.0  10.499286  11.652566  12.404616   9.863551     17.0   \n",
       "\n",
       "   Doctor  Home Maker  Lawyer  Manager  Professional  Student  Panel Truck  \\\n",
       "0     0.0         0.0     0.0      0.0           1.0      0.0          0.0   \n",
       "1     0.0         0.0     0.0      0.0           0.0      0.0          0.0   \n",
       "2     0.0         0.0     0.0      0.0           0.0      0.0          0.0   \n",
       "3     0.0         0.0     0.0      0.0           0.0      0.0          0.0   \n",
       "4     1.0         0.0     0.0      0.0           0.0      0.0          0.0   \n",
       "\n",
       "   Sports Car  Van  \n",
       "0         0.0  0.0  \n",
       "1         0.0  0.0  \n",
       "2         0.0  0.0  \n",
       "3         0.0  0.0  \n",
       "4         0.0  0.0  "
      ]
     },
     "execution_count": 32,
     "metadata": {},
     "output_type": "execute_result"
    }
   ],
   "source": [
    "df_train = df_train.drop(['BLUEBOOK'], axis = 1)\n",
    "df_train = df_train.drop(eliminate_variables, axis = 1)\n",
    "df_test = df_test.drop(['BLUEBOOK'], axis = 1)\n",
    "df_test = df_test.drop(eliminate_variables, axis = 1)\n",
    "Numerical_Variables.remove('BLUEBOOK')\n",
    "Other_variables = [ i for i in Other_variables if not i in eliminate_variables]\n",
    "df_train.head()"
   ]
  },
  {
   "cell_type": "markdown",
   "metadata": {},
   "source": [
    "At the end of the statistical tests, there are 15 covariables"
   ]
  },
  {
   "cell_type": "markdown",
   "metadata": {},
   "source": [
    "# Multivariate Analysis\n",
    "\n",
    "I propose multivariate data visualization to understand the relationship between covariables. As the non-numerical variables are all binary variables it is possible to perform a \"big\" correlation plot to understand the relationship between covariables"
   ]
  },
  {
   "cell_type": "code",
   "execution_count": 33,
   "metadata": {},
   "outputs": [
    {
     "data": {
      "image/png": "[encoded data removed]",
      "text/plain": [
       "<Figure size 720x576 with 2 Axes>"
      ]
     },
     "metadata": {
      "needs_background": "light"
     },
     "output_type": "display_data"
    }
   ],
   "source": [
    "corr = df_train.corr()\n",
    "f, ax = plt.subplots(figsize=(10, 8))\n",
    "sns.heatmap(corr, mask=np.zeros_like(corr, dtype=np.bool), cmap=sns.diverging_palette(220, 10, as_cmap=True),\n",
    "            square=True, ax=ax)\n",
    "plt.title('Correlation matrix')\n",
    "plt.show()"
   ]
  },
  {
   "cell_type": "markdown",
   "metadata": {},
   "source": [
    "There is just a strong linear correlation between INCOME and YOJ. It could be possible to use a new variable that is a linear combination of these two variables but we might loose interpretability. I decide not to reduce more variables at the moment. \n",
    "\n",
    "**Insights** \n",
    "\n",
    "* There is a strong relationship between INCOME nad YOJ. I will perform PCA between these two variables and I will keep just the first component.\n",
    "* It is quite weird that HOME_VAL and INCOME don't have a strong relationship but it is probably because of the population.\n",
    "* There is negative relationship between Home Maker and INCOME which is understandable as this job does not have a high payment.\n",
    "* There is also a strong negative relationship between student and INCOME which is coherent with reality."
   ]
  },
  {
   "cell_type": "markdown",
   "metadata": {},
   "source": [
    "### PCA\n",
    "I perform PCA analysis to reduce the dimensionality and avoid multicolinearity in the model. "
   ]
  },
  {
   "cell_type": "code",
   "execution_count": 34,
   "metadata": {},
   "outputs": [
    {
     "data": {
      "text/plain": [
       "array([0.86328689])"
      ]
     },
     "execution_count": 34,
     "metadata": {},
     "output_type": "execute_result"
    }
   ],
   "source": [
    "pca = PCA(n_components=1)\n",
    "pca.fit(df_train[['YOJ','INCOME']])\n",
    "pca.explained_variance_ratio_"
   ]
  },
  {
   "cell_type": "markdown",
   "metadata": {},
   "source": [
    "The first factor captures 86% of the variance of the analyzed variables."
   ]
  },
  {
   "cell_type": "code",
   "execution_count": 35,
   "metadata": {},
   "outputs": [
    {
     "data": {
      "text/html": [
       "<div>\n",
       "<style scoped>\n",
       "    .dataframe tbody tr th:only-of-type {\n",
       "        vertical-align: middle;\n",
       "    }\n",
       "\n",
       "    .dataframe tbody tr th {\n",
       "        vertical-align: top;\n",
       "    }\n",
       "\n",
       "    .dataframe thead th {\n",
       "        text-align: right;\n",
       "    }\n",
       "</style>\n",
       "<table border=\"1\" class=\"dataframe\">\n",
       "  <thead>\n",
       "    <tr style=\"text-align: right;\">\n",
       "      <th></th>\n",
       "      <th>TARGET_FLAG</th>\n",
       "      <th>AGE</th>\n",
       "      <th>HOME_VAL</th>\n",
       "      <th>OLDCLAIM</th>\n",
       "      <th>CAR_AGE</th>\n",
       "      <th>Doctor</th>\n",
       "      <th>Home Maker</th>\n",
       "      <th>Lawyer</th>\n",
       "      <th>Manager</th>\n",
       "      <th>Professional</th>\n",
       "      <th>Student</th>\n",
       "      <th>Panel Truck</th>\n",
       "      <th>Sports Car</th>\n",
       "      <th>Van</th>\n",
       "      <th>PCA_FACTOR</th>\n",
       "    </tr>\n",
       "  </thead>\n",
       "  <tbody>\n",
       "    <tr>\n",
       "      <th>0</th>\n",
       "      <td>0.0</td>\n",
       "      <td>60.0</td>\n",
       "      <td>1.000000</td>\n",
       "      <td>8.403128</td>\n",
       "      <td>18.0</td>\n",
       "      <td>0.0</td>\n",
       "      <td>0.0</td>\n",
       "      <td>0.0</td>\n",
       "      <td>0.0</td>\n",
       "      <td>1.0</td>\n",
       "      <td>0.0</td>\n",
       "      <td>0.0</td>\n",
       "      <td>0.0</td>\n",
       "      <td>0.0</td>\n",
       "      <td>-0.972189</td>\n",
       "    </tr>\n",
       "    <tr>\n",
       "      <th>1</th>\n",
       "      <td>0.0</td>\n",
       "      <td>43.0</td>\n",
       "      <td>12.457811</td>\n",
       "      <td>1.000000</td>\n",
       "      <td>1.0</td>\n",
       "      <td>0.0</td>\n",
       "      <td>0.0</td>\n",
       "      <td>0.0</td>\n",
       "      <td>0.0</td>\n",
       "      <td>0.0</td>\n",
       "      <td>0.0</td>\n",
       "      <td>0.0</td>\n",
       "      <td>0.0</td>\n",
       "      <td>0.0</td>\n",
       "      <td>-1.125707</td>\n",
       "    </tr>\n",
       "    <tr>\n",
       "      <th>2</th>\n",
       "      <td>0.0</td>\n",
       "      <td>35.0</td>\n",
       "      <td>11.729576</td>\n",
       "      <td>10.563336</td>\n",
       "      <td>10.0</td>\n",
       "      <td>0.0</td>\n",
       "      <td>0.0</td>\n",
       "      <td>0.0</td>\n",
       "      <td>0.0</td>\n",
       "      <td>0.0</td>\n",
       "      <td>0.0</td>\n",
       "      <td>0.0</td>\n",
       "      <td>0.0</td>\n",
       "      <td>0.0</td>\n",
       "      <td>0.612868</td>\n",
       "    </tr>\n",
       "    <tr>\n",
       "      <th>3</th>\n",
       "      <td>0.0</td>\n",
       "      <td>51.0</td>\n",
       "      <td>12.632160</td>\n",
       "      <td>1.000000</td>\n",
       "      <td>6.0</td>\n",
       "      <td>0.0</td>\n",
       "      <td>0.0</td>\n",
       "      <td>0.0</td>\n",
       "      <td>0.0</td>\n",
       "      <td>0.0</td>\n",
       "      <td>0.0</td>\n",
       "      <td>0.0</td>\n",
       "      <td>0.0</td>\n",
       "      <td>0.0</td>\n",
       "      <td>-3.027922</td>\n",
       "    </tr>\n",
       "    <tr>\n",
       "      <th>4</th>\n",
       "      <td>0.0</td>\n",
       "      <td>50.0</td>\n",
       "      <td>12.404616</td>\n",
       "      <td>9.863551</td>\n",
       "      <td>17.0</td>\n",
       "      <td>1.0</td>\n",
       "      <td>0.0</td>\n",
       "      <td>0.0</td>\n",
       "      <td>0.0</td>\n",
       "      <td>0.0</td>\n",
       "      <td>0.0</td>\n",
       "      <td>0.0</td>\n",
       "      <td>0.0</td>\n",
       "      <td>0.0</td>\n",
       "      <td>-0.807560</td>\n",
       "    </tr>\n",
       "    <tr>\n",
       "      <th>5</th>\n",
       "      <td>1.0</td>\n",
       "      <td>34.0</td>\n",
       "      <td>1.000000</td>\n",
       "      <td>1.000000</td>\n",
       "      <td>7.0</td>\n",
       "      <td>0.0</td>\n",
       "      <td>0.0</td>\n",
       "      <td>0.0</td>\n",
       "      <td>0.0</td>\n",
       "      <td>0.0</td>\n",
       "      <td>0.0</td>\n",
       "      <td>0.0</td>\n",
       "      <td>1.0</td>\n",
       "      <td>0.0</td>\n",
       "      <td>-2.148708</td>\n",
       "    </tr>\n",
       "    <tr>\n",
       "      <th>6</th>\n",
       "      <td>0.0</td>\n",
       "      <td>54.0</td>\n",
       "      <td>8.869825</td>\n",
       "      <td>1.000000</td>\n",
       "      <td>1.0</td>\n",
       "      <td>0.0</td>\n",
       "      <td>0.0</td>\n",
       "      <td>0.0</td>\n",
       "      <td>0.0</td>\n",
       "      <td>0.0</td>\n",
       "      <td>0.0</td>\n",
       "      <td>0.0</td>\n",
       "      <td>0.0</td>\n",
       "      <td>0.0</td>\n",
       "      <td>0.102503</td>\n",
       "    </tr>\n",
       "    <tr>\n",
       "      <th>7</th>\n",
       "      <td>1.0</td>\n",
       "      <td>37.0</td>\n",
       "      <td>12.717938</td>\n",
       "      <td>7.772332</td>\n",
       "      <td>7.0</td>\n",
       "      <td>0.0</td>\n",
       "      <td>0.0</td>\n",
       "      <td>0.0</td>\n",
       "      <td>0.0</td>\n",
       "      <td>0.0</td>\n",
       "      <td>0.0</td>\n",
       "      <td>0.0</td>\n",
       "      <td>0.0</td>\n",
       "      <td>1.0</td>\n",
       "      <td>-0.775922</td>\n",
       "    </tr>\n",
       "    <tr>\n",
       "      <th>8</th>\n",
       "      <td>1.0</td>\n",
       "      <td>34.0</td>\n",
       "      <td>1.000000</td>\n",
       "      <td>1.000000</td>\n",
       "      <td>1.0</td>\n",
       "      <td>0.0</td>\n",
       "      <td>0.0</td>\n",
       "      <td>0.0</td>\n",
       "      <td>0.0</td>\n",
       "      <td>0.0</td>\n",
       "      <td>0.0</td>\n",
       "      <td>0.0</td>\n",
       "      <td>0.0</td>\n",
       "      <td>0.0</td>\n",
       "      <td>-0.073568</td>\n",
       "    </tr>\n",
       "    <tr>\n",
       "      <th>9</th>\n",
       "      <td>0.0</td>\n",
       "      <td>50.0</td>\n",
       "      <td>1.000000</td>\n",
       "      <td>1.000000</td>\n",
       "      <td>17.0</td>\n",
       "      <td>0.0</td>\n",
       "      <td>0.0</td>\n",
       "      <td>0.0</td>\n",
       "      <td>0.0</td>\n",
       "      <td>1.0</td>\n",
       "      <td>0.0</td>\n",
       "      <td>0.0</td>\n",
       "      <td>0.0</td>\n",
       "      <td>1.0</td>\n",
       "      <td>2.255478</td>\n",
       "    </tr>\n",
       "  </tbody>\n",
       "</table>\n",
       "</div>"
      ],
      "text/plain": [
       "   TARGET_FLAG   AGE   HOME_VAL   OLDCLAIM  CAR_AGE  Doctor  Home Maker  \\\n",
       "0          0.0  60.0   1.000000   8.403128     18.0     0.0         0.0   \n",
       "1          0.0  43.0  12.457811   1.000000      1.0     0.0         0.0   \n",
       "2          0.0  35.0  11.729576  10.563336     10.0     0.0         0.0   \n",
       "3          0.0  51.0  12.632160   1.000000      6.0     0.0         0.0   \n",
       "4          0.0  50.0  12.404616   9.863551     17.0     1.0         0.0   \n",
       "5          1.0  34.0   1.000000   1.000000      7.0     0.0         0.0   \n",
       "6          0.0  54.0   8.869825   1.000000      1.0     0.0         0.0   \n",
       "7          1.0  37.0  12.717938   7.772332      7.0     0.0         0.0   \n",
       "8          1.0  34.0   1.000000   1.000000      1.0     0.0         0.0   \n",
       "9          0.0  50.0   1.000000   1.000000     17.0     0.0         0.0   \n",
       "\n",
       "   Lawyer  Manager  Professional  Student  Panel Truck  Sports Car  Van  \\\n",
       "0     0.0      0.0           1.0      0.0          0.0         0.0  0.0   \n",
       "1     0.0      0.0           0.0      0.0          0.0         0.0  0.0   \n",
       "2     0.0      0.0           0.0      0.0          0.0         0.0  0.0   \n",
       "3     0.0      0.0           0.0      0.0          0.0         0.0  0.0   \n",
       "4     0.0      0.0           0.0      0.0          0.0         0.0  0.0   \n",
       "5     0.0      0.0           0.0      0.0          0.0         1.0  0.0   \n",
       "6     0.0      0.0           0.0      0.0          0.0         0.0  0.0   \n",
       "7     0.0      0.0           0.0      0.0          0.0         0.0  1.0   \n",
       "8     0.0      0.0           0.0      0.0          0.0         0.0  0.0   \n",
       "9     0.0      0.0           1.0      0.0          0.0         0.0  1.0   \n",
       "\n",
       "   PCA_FACTOR  \n",
       "0   -0.972189  \n",
       "1   -1.125707  \n",
       "2    0.612868  \n",
       "3   -3.027922  \n",
       "4   -0.807560  \n",
       "5   -2.148708  \n",
       "6    0.102503  \n",
       "7   -0.775922  \n",
       "8   -0.073568  \n",
       "9    2.255478  "
      ]
     },
     "execution_count": 35,
     "metadata": {},
     "output_type": "execute_result"
    }
   ],
   "source": [
    "pca_factor = pca.transform(df_train[['YOJ','INCOME']])\n",
    "pca_factor = pd.DataFrame(pca_factor,columns =['PCA_FACTOR'])\n",
    "df_train = pd.concat([df_train, pca_factor], axis=1)\n",
    "df_train = df_train.drop(['YOJ','INCOME'], axis=1)\n",
    "\n",
    "pca_factor = pca.transform(df_test[['YOJ','INCOME']])\n",
    "pca_factor = pd.DataFrame(pca_factor,columns =['PCA_FACTOR'])\n",
    "df_test = pd.concat([df_test, pca_factor], axis=1)\n",
    "df_test = df_test.drop(['YOJ','INCOME'], axis=1)\n",
    "\n",
    "df_train.head(10)"
   ]
  },
  {
   "cell_type": "markdown",
   "metadata": {},
   "source": [
    "## Summary\n",
    "In this notebook, I identify the prediction power of the covariables with respect to the target variable using non-parametric statistics; then I use data visualization to understand the relationships within covariables and I perform PCA where needed. As a main result of the notebook, I reduced the number of covariables from 33 to 14. "
   ]
  },
  {
   "cell_type": "code",
   "execution_count": 36,
   "metadata": {},
   "outputs": [],
   "source": [
    "new_dir = 'Working_datasets'\n",
    "\n",
    "if not os.path.exists(new_dir):\n",
    "    os.mkdir(new_dir)\n",
    "    \n",
    "df_train.to_csv(os.path.join(new_dir, 'processed_train.csv'), index=None)\n",
    "df_test.to_csv(os.path.join(new_dir, 'processed_test.csv'), index=None)"
   ]
  }
 ],
 "metadata": {
  "kernelspec": {
   "display_name": "Python 3",
   "language": "python",
   "name": "python3"
  },
  "language_info": {
   "codemirror_mode": {
    "name": "ipython",
    "version": 3
   },
   "file_extension": ".py",
   "mimetype": "text/x-python",
   "name": "python",
   "nbconvert_exporter": "python",
   "pygments_lexer": "ipython3",
   "version": "3.8.5"
  }
 },
 "nbformat": 4,
 "nbformat_minor": 4
}
